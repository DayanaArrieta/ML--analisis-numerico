{
 "cells": [
  {
   "cell_type": "code",
   "execution_count": 128,
   "metadata": {},
   "outputs": [],
   "source": [
    "import pandas as pd\n",
    "import numpy as np\n",
    "from sklearn.preprocessing import StandardScaler #normalizacion para el set de datos\n",
    "from sklearn.model_selection import train_test_split\n",
    "from sklearn.svm import SVC #SVM de clasificacion\n",
    "from sklearn.svm import SVR #SVM de regresion\n",
    "from sklearn.ensemble import RandomForestClassifier \n",
    "from sklearn.ensemble import RandomForestRegressor \n",
    "from sklearn.metrics import accuracy_score, mean_squared_error, mean_absolute_error"
   ]
  },
  {
   "cell_type": "code",
   "execution_count": null,
   "metadata": {},
   "outputs": [],
   "source": [
    "#hacer funcion para coger datos con saltos entre 6000"
   ]
  },
  {
   "cell_type": "code",
   "execution_count": 126,
   "metadata": {},
   "outputs": [],
   "source": [
    "df = pd.read_csv(\"./dataset/train.csv\")\n",
    "df_categorical = pd.DataFrame.copy(df)"
   ]
  },
  {
   "cell_type": "markdown",
   "metadata": {},
   "source": [
    "# Random Forest"
   ]
  },
  {
   "cell_type": "markdown",
   "metadata": {},
   "source": [
    "##### Random Forest clasificacion"
   ]
  },
  {
   "cell_type": "code",
   "execution_count": 82,
   "metadata": {},
   "outputs": [],
   "source": [
    "df = df.dropna(axis = 1) #eliminar columnas con NAN\n",
    "Y = df[\"SalePrice\"]\n",
    "X = df.drop(columns = [\"SalePrice\"]).select_dtypes(np.number)\n",
    "x_train, x_test, y_train, y_test = train_test_split(X,Y, test_size = 0.20, random_state = 42) #80% entrenaminto - 20% pruebas"
   ]
  },
  {
   "cell_type": "code",
   "execution_count": 85,
   "metadata": {},
   "outputs": [
    {
     "data": {
      "text/plain": [
       "0.6044520547945206"
      ]
     },
     "execution_count": 85,
     "metadata": {},
     "output_type": "execute_result"
    }
   ],
   "source": [
    "#entrenamiento del modelo randomForest\n",
    "rf = RandomForestClassifier(n_estimators = 71, max_depth= 7)\n",
    "rf.fit(x_train,y_train) #entrenamiento del modelo\n",
    "train_prediction = rf.predict(x_train) \n",
    "accuracy_score(y_train, train_prediction) #score de entrenamiento"
   ]
  },
  {
   "cell_type": "code",
   "execution_count": 86,
   "metadata": {},
   "outputs": [
    {
     "data": {
      "text/plain": [
       "0.010273972602739725"
      ]
     },
     "execution_count": 86,
     "metadata": {},
     "output_type": "execute_result"
    }
   ],
   "source": [
    "#testing del modelo\n",
    "test_prediction = rf.predict(x_test)\n",
    "accuracy_score(y_test, test_prediction)"
   ]
  },
  {
   "cell_type": "markdown",
   "metadata": {},
   "source": [
    "##### Random Forest regresion sin normalizacion"
   ]
  },
  {
   "cell_type": "code",
   "execution_count": 116,
   "metadata": {},
   "outputs": [],
   "source": [
    "Y = df[\"SalePrice\"]\n",
    "X = df.drop(columns = [\"SalePrice\"]).select_dtypes(np.number)\n",
    "x_train, x_test, y_train, y_test = train_test_split(X,Y, test_size = 0.20, random_state = 42) #80% entrenaminto - 20% pruebas"
   ]
  },
  {
   "cell_type": "code",
   "execution_count": 118,
   "metadata": {},
   "outputs": [
    {
     "data": {
      "text/plain": [
       "0.8603715414716145"
      ]
     },
     "execution_count": 118,
     "metadata": {},
     "output_type": "execute_result"
    }
   ],
   "source": [
    "rfr = RandomForestRegressor(n_estimators = 71, max_depth= 5)\n",
    "rfr.fit(x_train,y_train) #entrenamiento del model\n",
    "y_predict = rfr.predict(x_test)\n",
    "rfr.score(x_test, y_test) #score de pruebas"
   ]
  },
  {
   "cell_type": "markdown",
   "metadata": {},
   "source": [
    "##### Random Forest regresion con normalizacion"
   ]
  },
  {
   "cell_type": "code",
   "execution_count": 97,
   "metadata": {},
   "outputs": [],
   "source": [
    "#normalizacion del dataset\n",
    "scaler = StandardScaler()\n",
    "df = df.select_dtypes(np.number)\n",
    "normalized_array = scaler.fit_transform(df)\n",
    "df_normalized = pd.DataFrame(normalized_array, columns = df.columns.tolist())"
   ]
  },
  {
   "cell_type": "code",
   "execution_count": 101,
   "metadata": {},
   "outputs": [],
   "source": [
    "Y = df_normalized[\"SalePrice\"]\n",
    "X = df_normalized.drop(columns = [\"SalePrice\"])\n",
    "x_train, x_test, y_train, y_test = train_test_split(X,Y, test_size = 0.20, random_state = 42) #80% entrenaminto - 20% pruebas"
   ]
  },
  {
   "cell_type": "code",
   "execution_count": 119,
   "metadata": {},
   "outputs": [
    {
     "data": {
      "text/plain": [
       "0.8585558535195748"
      ]
     },
     "execution_count": 119,
     "metadata": {},
     "output_type": "execute_result"
    }
   ],
   "source": [
    "rfrn = RandomForestRegressor(n_estimators = 71, max_depth= 5)\n",
    "rfrn.fit(x_train,y_train) #entrenamiento del model\n",
    "y_predict = rfrn.predict(x_test)\n",
    "rfrn.score(x_test, y_test) #score de pruebas"
   ]
  },
  {
   "cell_type": "markdown",
   "metadata": {},
   "source": [
    "# SVM"
   ]
  },
  {
   "cell_type": "markdown",
   "metadata": {},
   "source": [
    "##### SVM clasificacion"
   ]
  },
  {
   "cell_type": "code",
   "execution_count": null,
   "metadata": {},
   "outputs": [],
   "source": []
  },
  {
   "cell_type": "markdown",
   "metadata": {},
   "source": [
    "##### SVM regresion sin normalizacion"
   ]
  },
  {
   "cell_type": "code",
   "execution_count": 124,
   "metadata": {},
   "outputs": [],
   "source": [
    "Y = df[\"SalePrice\"]\n",
    "X = df.drop(columns = [\"SalePrice\"]).select_dtypes(np.number)\n",
    "x_train, x_test, y_train, y_test = train_test_split(X,Y, test_size = 0.20, random_state = 42) #80% entrenaminto - 20% pruebas"
   ]
  },
  {
   "cell_type": "code",
   "execution_count": 125,
   "metadata": {},
   "outputs": [
    {
     "data": {
      "text/plain": [
       "-0.02462926562867107"
      ]
     },
     "execution_count": 125,
     "metadata": {},
     "output_type": "execute_result"
    }
   ],
   "source": [
    "svr = SVR()\n",
    "svr.fit(x_train, y_train)\n",
    "svr.score(x_test, y_test)"
   ]
  },
  {
   "cell_type": "markdown",
   "metadata": {},
   "source": [
    "##### SVM regresion con normalizacion"
   ]
  },
  {
   "cell_type": "code",
   "execution_count": 120,
   "metadata": {},
   "outputs": [],
   "source": [
    "#normalizacion del dataset\n",
    "scaler = StandardScaler()\n",
    "df = df.select_dtypes(np.number)\n",
    "normalized_array = scaler.fit_transform(df)\n",
    "df_normalized = pd.DataFrame(normalized_array, columns = df.columns.tolist())"
   ]
  },
  {
   "cell_type": "code",
   "execution_count": 121,
   "metadata": {},
   "outputs": [],
   "source": [
    "Y = df_normalized[\"SalePrice\"]\n",
    "X = df_normalized.drop(columns = [\"SalePrice\"])\n",
    "x_train, x_test, y_train, y_test = train_test_split(X,Y, test_size = 0.20, random_state = 42) #80% entrenaminto - 20% pruebas"
   ]
  },
  {
   "cell_type": "code",
   "execution_count": 123,
   "metadata": {},
   "outputs": [
    {
     "data": {
      "text/plain": [
       "0.8082306534675462"
      ]
     },
     "execution_count": 123,
     "metadata": {},
     "output_type": "execute_result"
    }
   ],
   "source": [
    "svrn = SVR()\n",
    "svrn.fit(x_train, y_train)\n",
    "svrn.score(x_test, y_test)"
   ]
  }
 ],
 "metadata": {
  "kernelspec": {
   "display_name": "Python 3.9.5 64-bit",
   "language": "python",
   "name": "python3"
  },
  "language_info": {
   "codemirror_mode": {
    "name": "ipython",
    "version": 3
   },
   "file_extension": ".py",
   "mimetype": "text/x-python",
   "name": "python",
   "nbconvert_exporter": "python",
   "pygments_lexer": "ipython3",
   "version": "3.9.5"
  },
  "orig_nbformat": 4,
  "vscode": {
   "interpreter": {
    "hash": "0d591c6e422414675974e227c13f5382000c440fedd3c5006ef2be5d887f0ba7"
   }
  }
 },
 "nbformat": 4,
 "nbformat_minor": 2
}
